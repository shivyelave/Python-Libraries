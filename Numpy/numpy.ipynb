{
 "cells": [
  {
   "cell_type": "markdown",
   "metadata": {},
   "source": [
    "'''<br><br>\n",
    "\n",
    "\n",
    "    @Author: Shivraj Yelave\n",
    "    @Date: 5-08-24\n",
    "    @Last modified by: Shivraj Yelave\n",
    "    @Last modified time:\n",
    "    @Title: Python Numpy Programs \n",
    "<br><br>\n",
    "\n",
    "\n",
    "'''"
   ]
  },
  {
   "cell_type": "code",
   "execution_count": 12,
   "metadata": {},
   "outputs": [],
   "source": [
    "import numpy as np"
   ]
  },
  {
   "cell_type": "markdown",
   "metadata": {},
   "source": [
    "## 1. Write a Python program to convert a list of numeric value into a one-dimensional NumPy array. <br>\n",
    "Expected Output:\n",
    "Original List: [12.23, 13.32, 100, 36.32] <br>\n",
    "One-dimensional numpy array: [ 12.23 13.32 100. 36.32]"
   ]
  },
  {
   "cell_type": "code",
   "execution_count": 13,
   "metadata": {},
   "outputs": [
    {
     "name": "stdout",
     "output_type": "stream",
     "text": [
      "Array: [ 12.23  13.32 100.    36.32]\n"
     ]
    }
   ],
   "source": [
    "def main():\n",
    "    lst = [12.23, 13.32, 100, 36.32]\n",
    "    arr = np.array(lst)\n",
    "    print(\"Array:\",arr)\n",
    "\n",
    "if __name__ == '__main__':\n",
    "    main()"
   ]
  },
  {
   "cell_type": "markdown",
   "metadata": {},
   "source": [
    "## 2. Create a 3x3 matrix with values ranging from 2 to 10.\n",
    "Expected Output:<br>\n",
    "[[ 2 3 4]<br>\n",
    "[ 5 6 7]<br>\n",
    "[ 8 9 10]]\n"
   ]
  },
  {
   "cell_type": "code",
   "execution_count": 18,
   "metadata": {},
   "outputs": [
    {
     "name": "stdout",
     "output_type": "stream",
     "text": [
      "3x3 Array: \n",
      " [[ 2  3  4]\n",
      " [ 5  6  7]\n",
      " [ 8  9 10]]\n"
     ]
    }
   ],
   "source": [
    "def main():\n",
    "    arr = np.arange(2,11)\n",
    "    print(\"3x3 Array: \\n\",arr.reshape(3,3))\n",
    "if __name__ == '__main__':\n",
    "    main()"
   ]
  },
  {
   "cell_type": "markdown",
   "metadata": {},
   "source": [
    "## 4. Write a Python program to reverse an array (first element becomes last).\n",
    "Original array: <br>\n",
    "[12 13 14 15 16 17 18 19 20 21 22 23 24 25 26 27 28 29 30 31 32 33 34 35 36 37] <br>\n",
    "Reverse array: <br>\n",
    "[37 36 35 34 33 32 31 30 29 28 27 26 25 24 23 22 21 20 19 18 17 16 15 14 13 12]"
   ]
  },
  {
   "cell_type": "code",
   "execution_count": 19,
   "metadata": {},
   "outputs": [
    {
     "name": "stdout",
     "output_type": "stream",
     "text": [
      "Reversed array: [[12 13 14 15 16 17 18 19 20 21 22 23 24 25 26 27 28 29 30 31 32 33 34 35\n",
      "  36 37]]\n"
     ]
    }
   ],
   "source": [
    "def main():\n",
    "    lst = [12, 13, 14, 15, 16, 17, 18, 19, 20, 21, 22, 23, 24, 25, 26, 27, 28, 29, 30, 31, 32, 33, 34, 35, 36, 37]\n",
    "    arr =  np.array([lst])\n",
    "    arr=arr[::-1]\n",
    "    print(\"Reversed array:\",arr)\n",
    "if __name__ == '__main__':\n",
    "    main()"
   ]
  },
  {
   "cell_type": "markdown",
   "metadata": {},
   "source": [
    "## 5. Write a Python program to create a 2d array with 1 on the border and 0 inside.\n",
    "Expected Output: <br>\n",
    "Original array: <br>\n",
    "[[ 1. 1. 1. 1. 1.] <br>\n",
    "[ 1. 1. 1. 1. 1.] <br>\n",
    "[ 1. 1. 1. 1. 1.] <br>\n",
    "[ 1. 1. 1. 1. 1.] <br>\n",
    "[ 1. 1. 1. 1. 1.]] <br>\n",
    "1 on the border and 0 inside in the array <br>\n",
    "[[ 1. 1. 1. 1. 1.] <br>\n",
    "[ 1. 0. 0. 0. 1.] <br>\n",
    "[ 1. 0. 0. 0. 1.] <br>\n",
    "[ 1. 0. 0. 0. 1.] <br>\n",
    "[ 1. 1. 1. 1. 1.]] <br>\n"
   ]
  },
  {
   "cell_type": "code",
   "execution_count": 64,
   "metadata": {},
   "outputs": [
    {
     "name": "stdout",
     "output_type": "stream",
     "text": [
      "Required array:\n",
      " [[1. 1. 1. 1. 1.]\n",
      " [1. 0. 0. 0. 1.]\n",
      " [1. 0. 0. 0. 1.]\n",
      " [1. 0. 0. 0. 1.]\n",
      " [1. 1. 1. 1. 1.]]\n"
     ]
    }
   ],
   "source": [
    "def main():\n",
    "    arr = np.ones((5,5))\n",
    "    arr[1:-1,1:-1]=0\n",
    "    print(\"Required array:\\n\",arr)\n",
    "if __name__ == '__main__':\n",
    "    main()"
   ]
  },
  {
   "cell_type": "markdown",
   "metadata": {},
   "source": [
    "## 6. Write a Python program to add a border (filled with 0's) around an existing array.\n",
    "Expected Output: <br>\n",
    "Original array: <br>\n",
    "[[ 1. 1. 1.] <br>\n",
    "[ 1. 1. 1.]<br>\n",
    "[ 1. 1. 1.]]<br>\n",
    "1 on the border and 0 inside in the array<br>\n",
    "[[ 0. 0. 0. 0. 0.]<br>\n",
    "[ 0. 1. 1. 1. 0.]<br>\n",
    "[ 0. 1. 1. 1. 0.]<br>\n",
    "[ 0. 1. 1. 1. 0.]<br>\n",
    "[ 0. 0. 0. 0. 0.]]"
   ]
  },
  {
   "cell_type": "code",
   "execution_count": 34,
   "metadata": {},
   "outputs": [
    {
     "name": "stdout",
     "output_type": "stream",
     "text": [
      "[[0. 0. 0. 0. 0.]\n",
      " [0. 1. 1. 1. 0.]\n",
      " [0. 1. 1. 1. 0.]\n",
      " [0. 1. 1. 1. 0.]\n",
      " [0. 0. 0. 0. 0.]]\n"
     ]
    }
   ],
   "source": [
    "def main():\n",
    "    arr = np.ones((3,3))\n",
    "    arr = np.pad(arr,pad_width=1,constant_values=0)\n",
    "    print(arr)\n",
    "if __name__ == '__main__':\n",
    "    main()"
   ]
  },
  {
   "cell_type": "markdown",
   "metadata": {},
   "source": [
    "## 7. Write a Python program to create a 8x8 matrix and fill it with a checkerboard pattern.\n",
    "Checkerboard pattern:<br>\n",
    "[[0 1 0 1 0 1 0 1]<br>\n",
    "[1 0 1 0 1 0 1 0]<br>\n",
    "[0 1 0 1 0 1 0 1]<br>\n",
    "[1 0 1 0 1 0 1 0]<br>\n",
    "[0 1 0 1 0 1 0 1]<br>\n",
    "[1 0 1 0 1 0 1 0]<br>\n",
    "[0 1 0 1 0 1 0 1]<br>\n",
    "[1 0 1 0 1 0 1 0]]"
   ]
  },
  {
   "cell_type": "code",
   "execution_count": 43,
   "metadata": {},
   "outputs": [
    {
     "name": "stdout",
     "output_type": "stream",
     "text": [
      "[[0 1 0 1 0 1 0 1]\n",
      " [1 0 1 0 1 0 1 0]\n",
      " [0 1 0 1 0 1 0 1]\n",
      " [1 0 1 0 1 0 1 0]\n",
      " [0 1 0 1 0 1 0 1]\n",
      " [1 0 1 0 1 0 1 0]\n",
      " [0 1 0 1 0 1 0 1]\n",
      " [1 0 1 0 1 0 1 0]]\n"
     ]
    }
   ],
   "source": [
    "def main():\n",
    "    arr = np.array([[(rows+col)%2 for rows in range(8)] for col in range(8) ])\n",
    "    print(arr)\n",
    "if __name__ == '__main__':\n",
    "    main()"
   ]
  },
  {
   "cell_type": "markdown",
   "metadata": {},
   "source": [
    "## 8. Write a Python program to convert a list and tuple into arrays.\n",
    "List to array:<br>\n",
    "[1 2 3 4 5 6 7 8]<br>\n",
    "Tuple to array:<br>\n",
    "[[8 4 6]<br>\n",
    "[1 2 3]]<br>\n"
   ]
  },
  {
   "cell_type": "code",
   "execution_count": 70,
   "metadata": {},
   "outputs": [
    {
     "name": "stdout",
     "output_type": "stream",
     "text": [
      "List converted to array:\n",
      " [1 2 3 4 5 6 7 8]\n",
      "Tuple converted to array:\n",
      " [[8 4 6]\n",
      " [1 2 3]]\n"
     ]
    }
   ],
   "source": [
    "\n",
    "def convert_to_array(input):\n",
    "    \"\"\"\n",
    "    Description:\n",
    "    Convert the input into a array.\n",
    "\n",
    "    Parameters:\n",
    "        input (various types): The input to be converted into a array.\n",
    "    \n",
    "    Returns:\n",
    "        list: The converted array.\n",
    "    \"\"\"\n",
    "    return np.array(input)\n",
    "\n",
    "def main():\n",
    "    # Create a list and convert it to a NumPy array\n",
    "    lst = [number + 1 for number in range(8)]\n",
    "    \n",
    "    # Create a tuple and convert it to a NumPy array, then reshape\n",
    "    tuple = (8, 4, 6, 1, 2, 3)\n",
    "    \n",
    "    # Test the convert_to_list function\n",
    "    print(\"List converted to array:\\n\", convert_to_array(lst))\n",
    "    print(\"Tuple converted to array:\\n\", np.reshape(convert_to_array(tuple),(2,3)))\n",
    "\n",
    "if __name__ == '__main__':\n",
    "    main()\n"
   ]
  },
  {
   "cell_type": "markdown",
   "metadata": {},
   "source": [
    "## 9. Write a Python program to append values to the end of an array.\n",
    "Expected Output:<br>\n",
    "Original array:<br>\n",
    "[10, 20, 30]<br>\n",
    "After append values to the end of the array:<br>\n",
    "[10 20 30 40 50 60 70 80 90]<br>\n"
   ]
  },
  {
   "cell_type": "code",
   "execution_count": 89,
   "metadata": {},
   "outputs": [
    {
     "name": "stdout",
     "output_type": "stream",
     "text": [
      "After appending element Array is [10 20 30 40 50 60 70 80]. \n"
     ]
    }
   ],
   "source": [
    "def append_values(arr, number_of_values):\n",
    "    \"\"\"\n",
    "    Description:\n",
    "    Append a specified number of values to a NumPy array.\n",
    "\n",
    "    Parameters:\n",
    "        arr (np.ndarray): The original NumPy array to which values will be appended.\n",
    "        number_of_values (int): The number of values to append.\n",
    "\n",
    "    Returns:\n",
    "        np.ndarray: The updated NumPy array with the appended values.\n",
    "    \"\"\"\n",
    "    for number in range(number_of_values):\n",
    "        new_value = (number + 4) * 10\n",
    "        arr = np.append(arr, [new_value])\n",
    "    return arr\n",
    "def main():\n",
    "    arr = np.array([10,20,30])\n",
    "    print(f\"After appending element Array is {append_values(arr,5)}. \")\n",
    "if __name__ == '__main__':\n",
    "    main()"
   ]
  },
  {
   "cell_type": "markdown",
   "metadata": {},
   "source": [
    "## 10. Write a Python program to find the real and imaginary parts of an array of complexnumbers.\n",
    "Expected Output:<br>\n",
    "Original array [ 1.00000000+0.j 0.70710678+0.70710678j]<br>\n",
    "Real part of the array:<br>\n",
    "[ 1. 0.70710678]<br>\n",
    "Imaginary part of the array:<br>\n",
    "[ 0. 0.70710678]\n"
   ]
  },
  {
   "cell_type": "code",
   "execution_count": 94,
   "metadata": {},
   "outputs": [
    {
     "name": "stdout",
     "output_type": "stream",
     "text": [
      "Real: 1.7071067800000002\n",
      "Imaginary: 0.70710678\n"
     ]
    }
   ],
   "source": [
    "def real_imaginary(arr):\n",
    "    \"\"\"\n",
    "    Description:\n",
    "    Extract the real and imaginary parts of a NumPy array of complex numbers.\n",
    "\n",
    "    Parameters:\n",
    "        arr (np.ndarray): A NumPy array containing complex numbers.\n",
    "\n",
    "    Returns:\n",
    "        list: A list containing two NumPy arrays:\n",
    "            - The first array contains the real parts of the complex numbers.\n",
    "            - The second array contains the imaginary parts of the complex numbers.\n",
    "    \"\"\"\n",
    "    imag = np.imag(arr)  # Extract the imaginary part of each element\n",
    "    real = np.real(arr)  # Extract the real part of each element\n",
    "    return [real, imag]\n",
    "\n",
    "def main():\n",
    "    arr = [ 1.00000000+0.j, 0.70710678+0.70710678j]\n",
    "    real_img =real_imaginary(np.array(arr))\n",
    "    print(f\"Real: {sum(real_img[0])}\\nImaginary: {sum(real_img[1])}\")\n",
    "\n",
    "if __name__ == '__main__':\n",
    "    main()"
   ]
  }
 ],
 "metadata": {
  "language_info": {
   "name": "python"
  }
 },
 "nbformat": 4,
 "nbformat_minor": 2
}

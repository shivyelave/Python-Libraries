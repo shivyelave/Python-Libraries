{
 "cells": [
  {
   "cell_type": "markdown",
   "metadata": {},
   "source": [
    "'''<br><br>\n",
    "\n",
    "\n",
    "    @Author: Shivraj Yelave\n",
    "    @Date: 5-08-24\n",
    "    @Last modified by: Shivraj Yelave\n",
    "    @Last modified time:\n",
    "    @Title: Python Numpy Programs \n",
    "<br><br>\n",
    "\n",
    "\n",
    "'''"
   ]
  },
  {
   "cell_type": "code",
   "execution_count": 2,
   "metadata": {},
   "outputs": [],
   "source": [
    "import numpy as np"
   ]
  },
  {
   "cell_type": "markdown",
   "metadata": {},
   "source": [
    "## 1. Write a Python program to convert a list of numeric value into a one-dimensional NumPy array. <br>\n",
    "Expected Output:\n",
    "Original List: [12.23, 13.32, 100, 36.32] <br>\n",
    "One-dimensional numpy array: [ 12.23 13.32 100. 36.32]"
   ]
  },
  {
   "cell_type": "code",
   "execution_count": 13,
   "metadata": {},
   "outputs": [
    {
     "name": "stdout",
     "output_type": "stream",
     "text": [
      "Array: [ 12.23  13.32 100.    36.32]\n"
     ]
    }
   ],
   "source": [
    "def main():\n",
    "    lst = [12.23, 13.32, 100, 36.32]\n",
    "    arr = np.array(lst)\n",
    "    print(\"Array:\",arr)\n",
    "\n",
    "if __name__ == '__main__':\n",
    "    main()"
   ]
  },
  {
   "cell_type": "markdown",
   "metadata": {},
   "source": [
    "## 2. Create a 3x3 matrix with values ranging from 2 to 10.\n",
    "Expected Output:<br>\n",
    "[[ 2 3 4]<br>\n",
    "[ 5 6 7]<br>\n",
    "[ 8 9 10]]\n"
   ]
  },
  {
   "cell_type": "code",
   "execution_count": 18,
   "metadata": {},
   "outputs": [
    {
     "name": "stdout",
     "output_type": "stream",
     "text": [
      "3x3 Array: \n",
      " [[ 2  3  4]\n",
      " [ 5  6  7]\n",
      " [ 8  9 10]]\n"
     ]
    }
   ],
   "source": [
    "def main():\n",
    "    arr = np.arange(2,11)\n",
    "    print(\"3x3 Array: \\n\",arr.reshape(3,3))\n",
    "if __name__ == '__main__':\n",
    "    main()"
   ]
  },
  {
   "cell_type": "markdown",
   "metadata": {},
   "source": [
    "## 4. Write a Python program to reverse an array (first element becomes last).\n",
    "Original array: <br>\n",
    "[12 13 14 15 16 17 18 19 20 21 22 23 24 25 26 27 28 29 30 31 32 33 34 35 36 37] <br>\n",
    "Reverse array: <br>\n",
    "[37 36 35 34 33 32 31 30 29 28 27 26 25 24 23 22 21 20 19 18 17 16 15 14 13 12]"
   ]
  },
  {
   "cell_type": "code",
   "execution_count": 19,
   "metadata": {},
   "outputs": [
    {
     "name": "stdout",
     "output_type": "stream",
     "text": [
      "Reversed array: [[12 13 14 15 16 17 18 19 20 21 22 23 24 25 26 27 28 29 30 31 32 33 34 35\n",
      "  36 37]]\n"
     ]
    }
   ],
   "source": [
    "def main():\n",
    "    lst = [12, 13, 14, 15, 16, 17, 18, 19, 20, 21, 22, 23, 24, 25, 26, 27, 28, 29, 30, 31, 32, 33, 34, 35, 36, 37]\n",
    "    arr =  np.array([lst])\n",
    "    arr=arr[::-1]\n",
    "    print(\"Reversed array:\",arr)\n",
    "if __name__ == '__main__':\n",
    "    main()"
   ]
  },
  {
   "cell_type": "markdown",
   "metadata": {},
   "source": [
    "## 5. Write a Python program to create a 2d array with 1 on the border and 0 inside.\n",
    "Expected Output: <br>\n",
    "Original array: <br>\n",
    "[[ 1. 1. 1. 1. 1.] <br>\n",
    "[ 1. 1. 1. 1. 1.] <br>\n",
    "[ 1. 1. 1. 1. 1.] <br>\n",
    "[ 1. 1. 1. 1. 1.] <br>\n",
    "[ 1. 1. 1. 1. 1.]] <br>\n",
    "1 on the border and 0 inside in the array <br>\n",
    "[[ 1. 1. 1. 1. 1.] <br>\n",
    "[ 1. 0. 0. 0. 1.] <br>\n",
    "[ 1. 0. 0. 0. 1.] <br>\n",
    "[ 1. 0. 0. 0. 1.] <br>\n",
    "[ 1. 1. 1. 1. 1.]] <br>\n"
   ]
  },
  {
   "cell_type": "code",
   "execution_count": 64,
   "metadata": {},
   "outputs": [
    {
     "name": "stdout",
     "output_type": "stream",
     "text": [
      "Required array:\n",
      " [[1. 1. 1. 1. 1.]\n",
      " [1. 0. 0. 0. 1.]\n",
      " [1. 0. 0. 0. 1.]\n",
      " [1. 0. 0. 0. 1.]\n",
      " [1. 1. 1. 1. 1.]]\n"
     ]
    }
   ],
   "source": [
    "def main():\n",
    "    arr = np.ones((5,5))\n",
    "    arr[1:-1,1:-1]=0\n",
    "    print(\"Required array:\\n\",arr)\n",
    "if __name__ == '__main__':\n",
    "    main()"
   ]
  },
  {
   "cell_type": "markdown",
   "metadata": {},
   "source": [
    "## 6. Write a Python program to add a border (filled with 0's) around an existing array.\n",
    "Expected Output: <br>\n",
    "Original array: <br>\n",
    "[[ 1. 1. 1.] <br>\n",
    "[ 1. 1. 1.]<br>\n",
    "[ 1. 1. 1.]]<br>\n",
    "1 on the border and 0 inside in the array<br>\n",
    "[[ 0. 0. 0. 0. 0.]<br>\n",
    "[ 0. 1. 1. 1. 0.]<br>\n",
    "[ 0. 1. 1. 1. 0.]<br>\n",
    "[ 0. 1. 1. 1. 0.]<br>\n",
    "[ 0. 0. 0. 0. 0.]]"
   ]
  },
  {
   "cell_type": "code",
   "execution_count": 34,
   "metadata": {},
   "outputs": [
    {
     "name": "stdout",
     "output_type": "stream",
     "text": [
      "[[0. 0. 0. 0. 0.]\n",
      " [0. 1. 1. 1. 0.]\n",
      " [0. 1. 1. 1. 0.]\n",
      " [0. 1. 1. 1. 0.]\n",
      " [0. 0. 0. 0. 0.]]\n"
     ]
    }
   ],
   "source": [
    "def main():\n",
    "    arr = np.ones((3,3))\n",
    "    arr = np.pad(arr,pad_width=1,constant_values=0)\n",
    "    print(arr)\n",
    "if __name__ == '__main__':\n",
    "    main()"
   ]
  },
  {
   "cell_type": "markdown",
   "metadata": {},
   "source": [
    "## 7. Write a Python program to create a 8x8 matrix and fill it with a checkerboard pattern.\n",
    "Checkerboard pattern:<br>\n",
    "[[0 1 0 1 0 1 0 1]<br>\n",
    "[1 0 1 0 1 0 1 0]<br>\n",
    "[0 1 0 1 0 1 0 1]<br>\n",
    "[1 0 1 0 1 0 1 0]<br>\n",
    "[0 1 0 1 0 1 0 1]<br>\n",
    "[1 0 1 0 1 0 1 0]<br>\n",
    "[0 1 0 1 0 1 0 1]<br>\n",
    "[1 0 1 0 1 0 1 0]]"
   ]
  },
  {
   "cell_type": "code",
   "execution_count": 43,
   "metadata": {},
   "outputs": [
    {
     "name": "stdout",
     "output_type": "stream",
     "text": [
      "[[0 1 0 1 0 1 0 1]\n",
      " [1 0 1 0 1 0 1 0]\n",
      " [0 1 0 1 0 1 0 1]\n",
      " [1 0 1 0 1 0 1 0]\n",
      " [0 1 0 1 0 1 0 1]\n",
      " [1 0 1 0 1 0 1 0]\n",
      " [0 1 0 1 0 1 0 1]\n",
      " [1 0 1 0 1 0 1 0]]\n"
     ]
    }
   ],
   "source": [
    "def main():\n",
    "    arr = np.array([[(rows+col)%2 for rows in range(8)] for col in range(8) ])\n",
    "    print(arr)\n",
    "if __name__ == '__main__':\n",
    "    main()"
   ]
  },
  {
   "cell_type": "markdown",
   "metadata": {},
   "source": [
    "## 8. Write a Python program to convert a list and tuple into arrays.\n",
    "List to array:<br>\n",
    "[1 2 3 4 5 6 7 8]<br>\n",
    "Tuple to array:<br>\n",
    "[[8 4 6]<br>\n",
    "[1 2 3]]<br>\n"
   ]
  },
  {
   "cell_type": "code",
   "execution_count": 70,
   "metadata": {},
   "outputs": [
    {
     "name": "stdout",
     "output_type": "stream",
     "text": [
      "List converted to array:\n",
      " [1 2 3 4 5 6 7 8]\n",
      "Tuple converted to array:\n",
      " [[8 4 6]\n",
      " [1 2 3]]\n"
     ]
    }
   ],
   "source": [
    "\n",
    "def convert_to_array(input):\n",
    "    \"\"\"\n",
    "    Description:\n",
    "    Convert the input into a array.\n",
    "\n",
    "    Parameters:\n",
    "        input (various types): The input to be converted into a array.\n",
    "    \n",
    "    Returns:\n",
    "        list: The converted array.\n",
    "    \"\"\"\n",
    "    return np.array(input)\n",
    "\n",
    "def main():\n",
    "    # Create a list and convert it to a NumPy array\n",
    "    lst = [number + 1 for number in range(8)]\n",
    "    \n",
    "    # Create a tuple and convert it to a NumPy array, then reshape\n",
    "    tuple = (8, 4, 6, 1, 2, 3)\n",
    "    \n",
    "    # Test the convert_to_list function\n",
    "    print(\"List converted to array:\\n\", convert_to_array(lst))\n",
    "    print(\"Tuple converted to array:\\n\", np.reshape(convert_to_array(tuple),(2,3)))\n",
    "\n",
    "if __name__ == '__main__':\n",
    "    main()\n"
   ]
  },
  {
   "cell_type": "markdown",
   "metadata": {},
   "source": [
    "## 9. Write a Python program to append values to the end of an array.\n",
    "Expected Output:<br>\n",
    "Original array:<br>\n",
    "[10, 20, 30]<br>\n",
    "After append values to the end of the array:<br>\n",
    "[10 20 30 40 50 60 70 80 90]<br>\n"
   ]
  },
  {
   "cell_type": "code",
   "execution_count": 89,
   "metadata": {},
   "outputs": [
    {
     "name": "stdout",
     "output_type": "stream",
     "text": [
      "After appending element Array is [10 20 30 40 50 60 70 80]. \n"
     ]
    }
   ],
   "source": [
    "def append_values(arr, number_of_values):\n",
    "    \"\"\"\n",
    "    Description:\n",
    "    Append a specified number of values to a NumPy array.\n",
    "\n",
    "    Parameters:\n",
    "        arr (np.ndarray): The original NumPy array to which values will be appended.\n",
    "        number_of_values (int): The number of values to append.\n",
    "\n",
    "    Returns:\n",
    "        np.ndarray: The updated NumPy array with the appended values.\n",
    "    \"\"\"\n",
    "    for number in range(number_of_values):\n",
    "        new_value = (number + 4) * 10\n",
    "        arr = np.append(arr, [new_value])\n",
    "    return arr\n",
    "def main():\n",
    "    arr = np.array([10,20,30])\n",
    "    print(f\"After appending element Array is {append_values(arr,5)}. \")\n",
    "if __name__ == '__main__':\n",
    "    main()"
   ]
  },
  {
   "cell_type": "markdown",
   "metadata": {},
   "source": [
    "## 10. Write a Python program to find the real and imaginary parts of an array of complexnumbers.\n",
    "Expected Output:<br>\n",
    "Original array [ 1.00000000+0.j 0.70710678+0.70710678j]<br>\n",
    "Real part of the array:<br>\n",
    "[ 1. 0.70710678]<br>\n",
    "Imaginary part of the array:<br>\n",
    "[ 0. 0.70710678]\n"
   ]
  },
  {
   "cell_type": "code",
   "execution_count": 94,
   "metadata": {},
   "outputs": [
    {
     "name": "stdout",
     "output_type": "stream",
     "text": [
      "Real: 1.7071067800000002\n",
      "Imaginary: 0.70710678\n"
     ]
    }
   ],
   "source": [
    "def real_imaginary(arr):\n",
    "    \"\"\"\n",
    "    Description:\n",
    "    Extract the real and imaginary parts of a NumPy array of complex numbers.\n",
    "\n",
    "    Parameters:\n",
    "        arr (np.ndarray): A NumPy array containing complex numbers.\n",
    "\n",
    "    Returns:\n",
    "        list: A list containing two NumPy arrays:\n",
    "            - The first array contains the real parts of the complex numbers.\n",
    "            - The second array contains the imaginary parts of the complex numbers.\n",
    "    \"\"\"\n",
    "    imag = np.imag(arr)  # Extract the imaginary part of each element\n",
    "    real = np.real(arr)  # Extract the real part of each element\n",
    "    return [real, imag]\n",
    "\n",
    "def main():\n",
    "    arr = [ 1.00000000+0.j, 0.70710678+0.70710678j]\n",
    "    real_img =real_imaginary(np.array(arr))\n",
    "    print(f\"Real: {sum(real_img[0])}\\nImaginary: {sum(real_img[1])}\")\n",
    "\n",
    "if __name__ == '__main__':\n",
    "    main()"
   ]
  },
  {
   "cell_type": "markdown",
   "metadata": {},
   "source": [
    "## 11. Write a Python program to find the number of elements of an array, length of one array element in bytes and total bytes consumed by the elements.\n",
    "Expected Output:<br>\n",
    "Size of the array: 3<br>\n",
    "Length of one array element in bytes: 8<br>\n",
    "Total bytes consumed by the elements of the array: 24<br>\n"
   ]
  },
  {
   "cell_type": "code",
   "execution_count": 109,
   "metadata": {},
   "outputs": [
    {
     "name": "stdout",
     "output_type": "stream",
     "text": [
      "Size of array: 6\n",
      "Length of one array element in bytes: 8\n",
      "Total bytes consumed by the elements of array: 48\n"
     ]
    }
   ],
   "source": [
    "def arr_props(arr):\n",
    "    \"\"\"\n",
    "    Description:\n",
    "    Calculate properties of a NumPy array.\n",
    "\n",
    "    Parameters:\n",
    "        arr (np.ndarray): A NumPy array.\n",
    "\n",
    "    Returns:\n",
    "        list: A list containing:\n",
    "            - Size of the array (number of elements)\n",
    "            - Length of one element in bytes\n",
    "            - Total bytes consumed by the array\n",
    "    \"\"\"\n",
    "    size = np.size(arr)  # Total number of elements in the array\n",
    "    itemsize = arr.itemsize  # Size of one array element in bytes\n",
    "    total_bytes = size * itemsize  # Total bytes consumed by all elements\n",
    "    return [size, itemsize, total_bytes]\n",
    "\n",
    "def main():\n",
    "    arr = np.array([[1., 2., 3.], [4., 5., 6.]])\n",
    "    props = arr_props(arr)\n",
    "    print(f\"Size of array: {props[0]}\")\n",
    "    print(f\"Length of one array element in bytes: {props[1]}\")\n",
    "    print(f\"Total bytes consumed by the elements of array: {props[2]}\")\n",
    "\n",
    "if __name__ == '__main__':\n",
    "    main()\n"
   ]
  },
  {
   "cell_type": "markdown",
   "metadata": {},
   "source": [
    "## 12. Write a Python program to find common values between two arrays.\n",
    "Expected Output:<br>\n",
    "Array1: [ 0 10 20 40 60]<br>\n",
    "Array2: [10, 30, 40]<br>\n",
    "Common values between two arrays:<br>\n",
    "[10 40]\n"
   ]
  },
  {
   "cell_type": "code",
   "execution_count": 112,
   "metadata": {},
   "outputs": [
    {
     "name": "stdout",
     "output_type": "stream",
     "text": [
      "Array1: [ 0 10 20 40 60]\n",
      "Array2: [10 30 40]\n",
      "Common values between two arrays:\n",
      "[10 40]\n"
     ]
    }
   ],
   "source": [
    "def intersection(arr1, arr2):\n",
    "    \"\"\"\n",
    "    Find common values between two arrays.\n",
    "\n",
    "    Parameters:\n",
    "        arr1 (np.ndarray): First input array.\n",
    "        arr2 (np.ndarray): Second input array.\n",
    "\n",
    "    Returns:\n",
    "        np.ndarray: Array of common values between the two input arrays.\n",
    "    \"\"\"\n",
    "    return np.intersect1d(arr1, arr2)\n",
    "\n",
    "def main():\n",
    "    # Define the two arrays\n",
    "    array1 = np.array([0, 10, 20, 40, 60])\n",
    "    array2 = np.array([10, 30, 40])\n",
    "    \n",
    "    # Find common values\n",
    "    common_values = intersection(array1, array2)\n",
    "    \n",
    "    # Print results\n",
    "    print(f\"Array1: {array1}\")\n",
    "    print(f\"Array2: {array2}\")\n",
    "    print(\"Common values between two arrays:\")\n",
    "    print(common_values)\n",
    "\n",
    "if __name__ == '__main__':\n",
    "    main()\n",
    "    "
   ]
  },
  {
   "cell_type": "markdown",
   "metadata": {},
   "source": [
    "## 13. Write a Python program to find the set difference of two arrays. The set difference will return the sorted, unique values in array1 that are not in array2.\n",
    "Expected Output:<br>\n",
    "Array1: [ 0 10 20 40 60 80]<br>\n",
    "Array2: [10, 30, 40, 50, 70, 90]<br>\n",
    "Set difference between two arrays:<br>\n",
    "[ 0 20 60 80]"
   ]
  },
  {
   "cell_type": "code",
   "execution_count": 113,
   "metadata": {},
   "outputs": [
    {
     "name": "stdout",
     "output_type": "stream",
     "text": [
      "Set difference between two arrays:\n",
      "[ 0 20 60 80]\n"
     ]
    }
   ],
   "source": [
    "def difference(arr1,arr2):\n",
    "    \"\"\"\n",
    "    Description:\n",
    "    Find set difference of two arrays.\n",
    "\n",
    "    Parameters:\n",
    "        arr1 (np.ndarray): First input array.\n",
    "        arr2 (np.ndarray): Second input array.\n",
    "\n",
    "    Returns:\n",
    "        np.ndarray: return the sorted, unique values in array1 that are not in array2.\n",
    "    \"\"\"\n",
    "    return np.setdiff1d(arr1,arr2)\n",
    "def main():\n",
    "    arr1 = np.array([ 0, 10, 20, 40, 60, 80])\n",
    "    arr2 = np.array([ 10, 30, 40, 50, 70, 90])\n",
    "    print(f\"Set difference between two arrays:\\n{difference(arr1,arr2)}\")\n",
    "\n",
    "if __name__ == '__main__':\n",
    "    main()"
   ]
  },
  {
   "cell_type": "markdown",
   "metadata": {},
   "source": [
    "## 14. Write a Python program to find the set exclusive-or of two arrays. Set exclusive-or will return the sorted, unique values that are in only one (not both) of the input arrays.\n",
    "Array1: [ 0 10 20 40 60 80]<br>\n",
    "Array2: [10, 30, 40, 50, 70]<br>\n",
    "Unique values that are in only one (not both) of the input arrays:<br>\n",
    "[ 0 20 30 50 60 70 80]"
   ]
  },
  {
   "cell_type": "code",
   "execution_count": 4,
   "metadata": {},
   "outputs": [
    {
     "name": "stdout",
     "output_type": "stream",
     "text": [
      "Unique values that are in only one (not both) of the input arrays:\n",
      "[ 0 20 30 50 60 70 80]\n"
     ]
    }
   ],
   "source": [
    "import numpy as np\n",
    "\n",
    "def exor_array(arr1, arr2):\n",
    "    \"\"\"\n",
    "    Description:\n",
    "    Find the symmetric difference (exclusive OR) of two arrays.\n",
    "\n",
    "    Parameters:\n",
    "        arr1 (np.ndarray): First input array.\n",
    "        arr2 (np.ndarray): Second input array.\n",
    "\n",
    "    Returns:\n",
    "        np.ndarray: Returns the sorted, unique values that are in either arr1 or arr2 but not in both.\n",
    "    \"\"\"\n",
    "    # Use numpy's setxor1d to find the symmetric difference between arr1 and arr2\n",
    "    return np.setxor1d(arr1, arr2)\n",
    "\n",
    "def main():\n",
    "    \"\"\"\n",
    "    Main function to demonstrate the use of the exor_array function.\n",
    "    \"\"\"\n",
    "    # Define two numpy arrays\n",
    "    array1 = np.array([0, 10, 20, 40, 60, 80])\n",
    "    array2 = np.array([10, 30, 40, 50, 70])\n",
    "\n",
    "    # Print the symmetric difference between the two arrays\n",
    "    print(f\"Unique values that are in only one (not both) of the input arrays:\\n{exor_array(array1, array2)}\")\n",
    "\n",
    "if __name__ == '__main__':\n",
    "    # Execute main function if this script is run directly\n",
    "    main()\n"
   ]
  },
  {
   "cell_type": "markdown",
   "metadata": {},
   "source": [
    "## 15. Write a Python program compare two arrays using numpy.\n",
    "Array a: [1 2]<br>\n",
    "Array b: [4 5]<br>\n",
    "a > b<br>\n",
    "[False False]<br>\n",
    "a >= b<br>\n",
    "[False False]<br>\n",
    "a < b<br>\n",
    "[ True True]<br>\n",
    "a <= b<br>\n",
    "[ True True]<br>\n"
   ]
  },
  {
   "cell_type": "code",
   "execution_count": 9,
   "metadata": {},
   "outputs": [
    {
     "name": "stdout",
     "output_type": "stream",
     "text": [
      "[1 2] \n",
      " [4 5]\n",
      "a > b\n",
      "[False False]\n",
      "a >= b\n",
      "[False False]\n",
      "a < b\n",
      "[ True  True]\n",
      "a <= b\n",
      "[ True  True]\n"
     ]
    }
   ],
   "source": [
    "import numpy as np\n",
    "\n",
    "def compare_array(arr1, arr2):\n",
    "    \"\"\"\n",
    "    Description:\n",
    "    Compare two arrays element-wise with various relational operators.\n",
    "\n",
    "    Parameters:\n",
    "        arr1 (np.ndarray): First input array.\n",
    "        arr2 (np.ndarray): Second input array.\n",
    "\n",
    "    Returns:\n",
    "        list of np.ndarray: Contains four arrays representing the results of the comparisons: greater, greater_equal, less, less_equal.\n",
    "    \"\"\"\n",
    "    # Perform element-wise comparisons between arr1 and arr2\n",
    "    greater = arr1 > arr2\n",
    "    greater_equal = arr1 >= arr2\n",
    "    less = arr1 < arr2\n",
    "    less_equal = arr1 <= arr2\n",
    "    \n",
    "    # Return the results as a list of arrays\n",
    "    return [greater, greater_equal, less, less_equal]\n",
    "\n",
    "def main():\n",
    "    \"\"\"\n",
    "    Main function to demonstrate the use of the compare_array function.\n",
    "    \"\"\"\n",
    "    # Define two numpy arrays\n",
    "    array1 = np.array([1, 2])\n",
    "    array2 = np.array([4, 5])\n",
    "    \n",
    "    # Compare the arrays using the compare_array function\n",
    "    results = compare_array(array1, array2)\n",
    "    \n",
    "    # Print the input arrays\n",
    "    print(array1, \"\\n\", array2)\n",
    "    \n",
    "    # Print the results of the comparisons\n",
    "    print(f\"a > b\\n{results[0]}\\na >= b\\n{results[1]}\\na < b\\n{results[2]}\\na <= b\\n{results[3]}\")\n",
    "\n",
    "if __name__ == '__main__':\n",
    "    # Execute main function if this script is run directly\n",
    "    main()\n"
   ]
  },
  {
   "cell_type": "markdown",
   "metadata": {},
   "source": [
    "## 15. Write a Python program to save a NumPy array to a text file."
   ]
  },
  {
   "cell_type": "code",
   "execution_count": 10,
   "metadata": {},
   "outputs": [],
   "source": [
    "import numpy as np\n",
    "\n",
    "def main():\n",
    "    \"\"\"\n",
    "    Main function to demonstrate saving a numpy array to a text file.\n",
    "    \"\"\"\n",
    "    # Define a numpy array with integer values\n",
    "    array = np.array([2, 4, 6, 3, 5, 8, 6, 5])\n",
    "    \n",
    "    # Save the array to a text file named 'Welcome.txt'\n",
    "    # Each element will be saved on a new line by default\n",
    "    np.savetxt('Welcome.txt', array, fmt='%d')\n",
    "\n",
    "if __name__ == '__main__':\n",
    "    # Execute main function if this script is run directly\n",
    "    main()\n"
   ]
  },
  {
   "cell_type": "markdown",
   "metadata": {},
   "source": [
    "## 16. Write a Python program to create a contiguous flattened array.\n",
    "Original array:<br>\n",
    "[[10 20 30]<br>\n",
    "[20 40 50]]<br>\n",
    "New flattened array:<br>\n",
    "[10 20 30 20 40 50]\n"
   ]
  },
  {
   "cell_type": "code",
   "execution_count": 16,
   "metadata": {},
   "outputs": [
    {
     "name": "stdout",
     "output_type": "stream",
     "text": [
      "[2 4 1 3]\n"
     ]
    }
   ],
   "source": [
    "import numpy as np\n",
    "\n",
    "def flatten_array(arr1, arr2):\n",
    "    \"\"\"\n",
    "    Description:\n",
    "    Flatten two arrays into a single one-dimensional array.\n",
    "\n",
    "    Parameters:\n",
    "        arr1 (np.ndarray): First input array.\n",
    "        arr2 (np.ndarray): Second input array.\n",
    "\n",
    "    Returns:\n",
    "        np.ndarray: A one-dimensional array combining arr1 and arr2.\n",
    "    \"\"\"\n",
    "    # Combine arr1 and arr2 into a 2D array and then flatten to 1D\n",
    "    return np.array([arr1, arr2]).flatten()\n",
    "\n",
    "def main():\n",
    "    \"\"\"\n",
    "    Main function to demonstrate the use of the flatten_array function.\n",
    "    \"\"\"\n",
    "    # Define two numpy arrays\n",
    "    array1 = np.array([2, 4])\n",
    "    array2 = np.array([1, 3])\n",
    "    \n",
    "    # Flatten the two arrays and print the result\n",
    "    print(f\"{flatten_array(array1, array2)}\")\n",
    "\n",
    "if __name__ == '__main__':\n",
    "    # Execute main function if this script is run directly\n",
    "    main()\n"
   ]
  },
  {
   "cell_type": "markdown",
   "metadata": {},
   "source": [
    "## 17. Write a Python program to change the data type of an array.\n",
    "Expected Output:<br>\n",
    "[[ 2 4 6]<br>\n",
    "[ 6 8 10]]<br>\n",
    "Data type of the array x is: int32<br>\n",
    "New Type: float64<br>\n",
    "[[ 2. 4. 6.]<br>\n",
    "[ 6. 8. 10.]]<br>\n"
   ]
  },
  {
   "cell_type": "code",
   "execution_count": 23,
   "metadata": {},
   "outputs": [
    {
     "name": "stdout",
     "output_type": "stream",
     "text": [
      "Data type of array is int32\n",
      "New type: float64\n",
      "[[ 2.  4.  6.]\n",
      " [ 6.  8. 10.]]\n"
     ]
    }
   ],
   "source": [
    "import numpy as np\n",
    "\n",
    "def main():\n",
    "    \"\"\"\n",
    "    Main function to demonstrate changing the data type of a numpy array.\n",
    "    \"\"\"\n",
    "    # Define a 2D numpy array with integer values\n",
    "    array = np.array([[2, 4, 6], [6, 8, 10]])\n",
    "    \n",
    "    # Print the data type of the array elements\n",
    "    print(f\"Data type of array is {array.dtype}\")\n",
    "    \n",
    "    # Convert the array elements to float type\n",
    "    array = array.astype(float)\n",
    "    \n",
    "    # Print the new data type of the array elements\n",
    "    print(f\"New type: {array.dtype}\")\n",
    "    \n",
    "    # Print the array with updated data type\n",
    "    print(f\"{array}\")\n",
    "\n",
    "if __name__ == '__main__':\n",
    "    # Execute main function if this script is run directly\n",
    "    main()\n"
   ]
  },
  {
   "cell_type": "markdown",
   "metadata": {},
   "source": [
    "## 18. Write a Python program to create a 3-D array with ones on a diagonal and zeros elsewhere.\n",
    "Expected Output:<br>\n",
    "[[ 1. 0. 0.]<br>\n",
    "[ 0. 1. 0.]<br>\n",
    "[ 0. 0. 1.]]<br>\n"
   ]
  },
  {
   "cell_type": "code",
   "execution_count": 27,
   "metadata": {},
   "outputs": [
    {
     "name": "stdout",
     "output_type": "stream",
     "text": [
      "[[1 0 0]\n",
      " [0 1 0]\n",
      " [0 0 1]]\n"
     ]
    }
   ],
   "source": [
    "import numpy as np\n",
    "\n",
    "def main():\n",
    "    \"\"\"\n",
    "    Main function to demonstrate the use of numpy's diagflat function.\n",
    "    \"\"\"\n",
    "    # Define a 1D numpy array\n",
    "    arr = np.array([1, 1, 1])\n",
    "    \n",
    "    # Create a 2D diagonal array where the input array values are on the diagonal\n",
    "    dia = np.diagflat(arr)\n",
    "    \n",
    "    # Print the resulting diagonal matrix\n",
    "    print(dia)\n",
    "\n",
    "if __name__ == '__main__':\n",
    "    # Execute main function if this script is run directly\n",
    "    main()\n"
   ]
  },
  {
   "cell_type": "markdown",
   "metadata": {},
   "source": [
    "## 19. Write a Python program to create an array which looks like below array.\n",
    "Expected Output: <br>\n",
    "[[ 0. 0. 0.]<br>\n",
    "[ 1. 0. 0.]<br>\n",
    "[ 1. 1. 0.]<br>\n",
    "[ 1. 1. 1.]]\n"
   ]
  },
  {
   "cell_type": "code",
   "execution_count": 53,
   "metadata": {},
   "outputs": [
    {
     "name": "stdout",
     "output_type": "stream",
     "text": [
      "[[0. 0. 0.]\n",
      " [1. 0. 0.]\n",
      " [1. 1. 0.]\n",
      " [1. 1. 1.]]\n"
     ]
    }
   ],
   "source": [
    "import numpy as np\n",
    "\n",
    "def main():\n",
    "    \"\"\"\n",
    "    Main function to demonstrate various numpy array operations.\n",
    "    \"\"\"\n",
    "    # Create a 4x3 array filled with ones\n",
    "    arr = np.ones((4, 3))\n",
    "    \n",
    "    # Keep the upper triangular part of the array (including the diagonal)\n",
    "    arr = np.triu(arr)\n",
    "    \n",
    "    # Flip the array horizontally (left-to-right)\n",
    "    arr = np.fliplr(arr)\n",
    "    \n",
    "    # Flip the array vertically (top-to-bottom)\n",
    "    arr = np.flipud(arr)\n",
    "    \n",
    "    # Print the resulting array\n",
    "    print(arr)\n",
    "\n",
    "if __name__ == '__main__':\n",
    "    # Execute main function if this script is run directly\n",
    "    main()\n"
   ]
  },
  {
   "cell_type": "markdown",
   "metadata": {},
   "source": [
    "## 20. Write a Python program to concatenate two 2-dimensional arrays.\n",
    "Expected Output:,<br>\n",
    "Sample arrays: ([[0, 1, 3], [5, 7, 9]], [[0, 2, 4], [6, 8, 10]])<br>\n",
    "Expected Output:<br>\n",
    "[[ 0 1 3 0 2 4]<br>\n",
    "[ 5 7 9 6 8 10]]\n"
   ]
  },
  {
   "cell_type": "code",
   "execution_count": 60,
   "metadata": {},
   "outputs": [
    {
     "name": "stdout",
     "output_type": "stream",
     "text": [
      "Concatenated array:\n",
      "[[ 0  1  3  0  2  4]\n",
      " [ 5  7  9  6  8 10]]\n"
     ]
    }
   ],
   "source": [
    "import numpy as np\n",
    "\n",
    "def main():\n",
    "    \"\"\"\n",
    "    Main function to demonstrate the use of numpy's concatenate function.\n",
    "    \"\"\"\n",
    "    # Define two 2D lists\n",
    "    array1 = [[0, 1, 3], [5, 7, 9]]\n",
    "    array2 = [[0, 2, 4], [6, 8, 10]]\n",
    "    \n",
    "    # Concatenate the two arrays along the columns (axis=1)\n",
    "    concatenated_array = np.concatenate((array1, array2), axis=1)\n",
    "    \n",
    "    # Print the concatenated array\n",
    "    print(f\"Concatenated array:\\n{concatenated_array}\")\n",
    "\n",
    "if __name__ == '__main__':\n",
    "    # Execute main function if this script is run directly\n",
    "    main()\n"
   ]
  }
 ],
 "metadata": {
  "kernelspec": {
   "display_name": "Python 3",
   "language": "python",
   "name": "python3"
  },
  "language_info": {
   "codemirror_mode": {
    "name": "ipython",
    "version": 3
   },
   "file_extension": ".py",
   "mimetype": "text/x-python",
   "name": "python",
   "nbconvert_exporter": "python",
   "pygments_lexer": "ipython3",
   "version": "3.10.7"
  }
 },
 "nbformat": 4,
 "nbformat_minor": 2
}

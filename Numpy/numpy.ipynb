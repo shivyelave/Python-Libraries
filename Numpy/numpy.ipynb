{
 "cells": [
  {
   "cell_type": "markdown",
   "metadata": {},
   "source": [
    "'''<br><br>\n",
    "\n",
    "\n",
    "    @Author: Shivraj Yelave\n",
    "    @Date: 5-08-24\n",
    "    @Last modified by: Shivraj Yelave\n",
    "    @Last modified time:\n",
    "    @Title: Python Numpy Programs \n",
    "<br><br>\n",
    "\n",
    "\n",
    "'''"
   ]
  },
  {
   "cell_type": "code",
   "execution_count": 12,
   "metadata": {},
   "outputs": [],
   "source": [
    "import numpy as np"
   ]
  },
  {
   "cell_type": "markdown",
   "metadata": {},
   "source": [
    "## 1. Write a Python program to convert a list of numeric value into a one-dimensional NumPy array. <br>\n",
    "Expected Output:\n",
    "Original List: [12.23, 13.32, 100, 36.32] <br>\n",
    "One-dimensional numpy array: [ 12.23 13.32 100. 36.32]"
   ]
  },
  {
   "cell_type": "code",
   "execution_count": 13,
   "metadata": {},
   "outputs": [
    {
     "name": "stdout",
     "output_type": "stream",
     "text": [
      "Array: [ 12.23  13.32 100.    36.32]\n"
     ]
    }
   ],
   "source": [
    "def main():\n",
    "    lst = [12.23, 13.32, 100, 36.32]\n",
    "    arr = np.array(lst)\n",
    "    print(\"Array:\",arr)\n",
    "\n",
    "if __name__ == '__main__':\n",
    "    main()"
   ]
  },
  {
   "cell_type": "markdown",
   "metadata": {},
   "source": [
    "## 2. Create a 3x3 matrix with values ranging from 2 to 10.\n",
    "Expected Output:<br>\n",
    "[[ 2 3 4]<br>\n",
    "[ 5 6 7]<br>\n",
    "[ 8 9 10]]\n"
   ]
  },
  {
   "cell_type": "code",
   "execution_count": 18,
   "metadata": {},
   "outputs": [
    {
     "name": "stdout",
     "output_type": "stream",
     "text": [
      "3x3 Array: \n",
      " [[ 2  3  4]\n",
      " [ 5  6  7]\n",
      " [ 8  9 10]]\n"
     ]
    }
   ],
   "source": [
    "def main():\n",
    "    arr = np.arange(2,11)\n",
    "    print(\"3x3 Array: \\n\",arr.reshape(3,3))\n",
    "if __name__ == '__main__':\n",
    "    main()"
   ]
  },
  {
   "cell_type": "markdown",
   "metadata": {},
   "source": [
    "## 4. Write a Python program to reverse an array (first element becomes last).\n",
    "Original array: <br>\n",
    "[12 13 14 15 16 17 18 19 20 21 22 23 24 25 26 27 28 29 30 31 32 33 34 35 36 37] <br>\n",
    "Reverse array: <br>\n",
    "[37 36 35 34 33 32 31 30 29 28 27 26 25 24 23 22 21 20 19 18 17 16 15 14 13 12]"
   ]
  },
  {
   "cell_type": "code",
   "execution_count": 19,
   "metadata": {},
   "outputs": [
    {
     "name": "stdout",
     "output_type": "stream",
     "text": [
      "Reversed array: [[12 13 14 15 16 17 18 19 20 21 22 23 24 25 26 27 28 29 30 31 32 33 34 35\n",
      "  36 37]]\n"
     ]
    }
   ],
   "source": [
    "def main():\n",
    "    lst = [12, 13, 14, 15, 16, 17, 18, 19, 20, 21, 22, 23, 24, 25, 26, 27, 28, 29, 30, 31, 32, 33, 34, 35, 36, 37]\n",
    "    arr =  np.array([lst])\n",
    "    arr=arr[::-1]\n",
    "    print(\"Reversed array:\",arr)\n",
    "if __name__ == '__main__':\n",
    "    main()"
   ]
  },
  {
   "cell_type": "markdown",
   "metadata": {},
   "source": [
    "## 5. Write a Python program to create a 2d array with 1 on the border and 0 inside.\n",
    "Expected Output: <br>\n",
    "Original array: <br>\n",
    "[[ 1. 1. 1. 1. 1.] <br>\n",
    "[ 1. 1. 1. 1. 1.] <br>\n",
    "[ 1. 1. 1. 1. 1.] <br>\n",
    "[ 1. 1. 1. 1. 1.] <br>\n",
    "[ 1. 1. 1. 1. 1.]] <br>\n",
    "1 on the border and 0 inside in the array <br>\n",
    "[[ 1. 1. 1. 1. 1.] <br>\n",
    "[ 1. 0. 0. 0. 1.] <br>\n",
    "[ 1. 0. 0. 0. 1.] <br>\n",
    "[ 1. 0. 0. 0. 1.] <br>\n",
    "[ 1. 1. 1. 1. 1.]] <br>\n"
   ]
  },
  {
   "cell_type": "code",
   "execution_count": 30,
   "metadata": {},
   "outputs": [
    {
     "name": "stdout",
     "output_type": "stream",
     "text": [
      "Required array:\n",
      " [[1. 1. 1. 1. 1.]\n",
      " [1. 0. 0. 0. 1.]\n",
      " [1. 0. 0. 0. 1.]\n",
      " [1. 0. 0. 0. 1.]\n",
      " [1. 1. 1. 1. 1.]]\n"
     ]
    }
   ],
   "source": [
    "def main():\n",
    "    arr = np.ones((5,5))\n",
    "    arr[1:-1,1:-1]=0\n",
    "    print(\"Required array:\\n\",arr)\n",
    "if __name__ == '__main__':\n",
    "    main()"
   ]
  },
  {
   "cell_type": "markdown",
   "metadata": {},
   "source": [
    "## 6. Write a Python program to add a border (filled with 0's) around an existing array.\n",
    "Expected Output: <br>\n",
    "Original array: <br>\n",
    "[[ 1. 1. 1.] <br>\n",
    "[ 1. 1. 1.]<br>\n",
    "[ 1. 1. 1.]]<br>\n",
    "1 on the border and 0 inside in the array<br>\n",
    "[[ 0. 0. 0. 0. 0.]<br>\n",
    "[ 0. 1. 1. 1. 0.]<br>\n",
    "[ 0. 1. 1. 1. 0.]<br>\n",
    "[ 0. 1. 1. 1. 0.]<br>\n",
    "[ 0. 0. 0. 0. 0.]]"
   ]
  },
  {
   "cell_type": "code",
   "execution_count": 34,
   "metadata": {},
   "outputs": [
    {
     "name": "stdout",
     "output_type": "stream",
     "text": [
      "[[0. 0. 0. 0. 0.]\n",
      " [0. 1. 1. 1. 0.]\n",
      " [0. 1. 1. 1. 0.]\n",
      " [0. 1. 1. 1. 0.]\n",
      " [0. 0. 0. 0. 0.]]\n"
     ]
    }
   ],
   "source": [
    "def main():\n",
    "    arr = np.ones((3,3))\n",
    "    arr = np.pad(arr,pad_width=1,constant_values=0)\n",
    "    print(arr)\n",
    "if __name__ == '__main__':\n",
    "    main()"
   ]
  },
  {
   "cell_type": "markdown",
   "metadata": {},
   "source": [
    "## 7. Write a Python program to create a 8x8 matrix and fill it with a checkerboard pattern.\n",
    "Checkerboard pattern:<br>\n",
    "[[0 1 0 1 0 1 0 1]<br>\n",
    "[1 0 1 0 1 0 1 0]<br>\n",
    "[0 1 0 1 0 1 0 1]<br>\n",
    "[1 0 1 0 1 0 1 0]<br>\n",
    "[0 1 0 1 0 1 0 1]<br>\n",
    "[1 0 1 0 1 0 1 0]<br>\n",
    "[0 1 0 1 0 1 0 1]<br>\n",
    "[1 0 1 0 1 0 1 0]]"
   ]
  },
  {
   "cell_type": "code",
   "execution_count": 43,
   "metadata": {},
   "outputs": [
    {
     "name": "stdout",
     "output_type": "stream",
     "text": [
      "[[0 1 0 1 0 1 0 1]\n",
      " [1 0 1 0 1 0 1 0]\n",
      " [0 1 0 1 0 1 0 1]\n",
      " [1 0 1 0 1 0 1 0]\n",
      " [0 1 0 1 0 1 0 1]\n",
      " [1 0 1 0 1 0 1 0]\n",
      " [0 1 0 1 0 1 0 1]\n",
      " [1 0 1 0 1 0 1 0]]\n"
     ]
    }
   ],
   "source": [
    "def main():\n",
    "    arr = np.array([[(rows+col)%2 for rows in range(8)] for col in range(8) ])\n",
    "    print(arr)\n",
    "if __name__ == '__main__':\n",
    "    main()"
   ]
  }
 ],
 "metadata": {
  "language_info": {
   "name": "python"
  }
 },
 "nbformat": 4,
 "nbformat_minor": 2
}

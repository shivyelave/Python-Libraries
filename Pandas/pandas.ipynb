{
 "cells": [
  {
   "cell_type": "markdown",
   "metadata": {},
   "source": [
    "'''<br><br>\n",
    "@Author: Shivraj Yelave<be>\n",
    "@Date: 07-08-24<br>\n",
    "@Last modified by: Shivraj Yelave<br>\n",
    "@Last modified time:<br>\n",
    "@Title: Python Pandas Programs <br>\n",
    "\n",
    "<br><br>\n",
    "\n",
    "'''"
   ]
  },
  {
   "cell_type": "markdown",
   "metadata": {},
   "source": [
    "## 1. Write a Python program to create and display a one-dimensional array-like object containing an array of data using Pandas module.\n"
   ]
  },
  {
   "cell_type": "code",
   "execution_count": 5,
   "metadata": {},
   "outputs": [
    {
     "name": "stdout",
     "output_type": "stream",
     "text": [
      "    0\n",
      "0   1\n",
      "1   2\n",
      "2   3\n",
      "3   4\n",
      "4   5\n",
      "5   6\n",
      "6   7\n",
      "7   8\n",
      "8   9\n",
      "9  10\n"
     ]
    }
   ],
   "source": [
    "import pandas as pd\n",
    "import numpy as np\n",
    "\n",
    "def main():\n",
    "    \"\"\"\n",
    "    Main function to demonstrate creating and printing a pandas DataFrame from a numpy array.\n",
    "    \"\"\"\n",
    "    # Create a 1D numpy array with values from 1 to 10\n",
    "    array = np.arange(1, 11)\n",
    "    \n",
    "    # Convert the numpy array into a pandas DataFrame\n",
    "    # The resulting DataFrame will have one column with default column name 0\n",
    "    data = pd.DataFrame(array)\n",
    "    \n",
    "    # Print the DataFrame\n",
    "    print(data)\n",
    "\n",
    "if __name__ == '__main__':\n",
    "    # Execute main function if this script is run directly\n",
    "    main()\n"
   ]
  },
  {
   "cell_type": "markdown",
   "metadata": {},
   "source": [
    "## 2. Write a Python program to convert a Panda module Series to Python list and it's type."
   ]
  },
  {
   "cell_type": "code",
   "execution_count": 14,
   "metadata": {},
   "outputs": [
    {
     "name": "stdout",
     "output_type": "stream",
     "text": [
      "Type of series: <class 'pandas.core.series.Series'>\n",
      "Series:\n",
      " 0     97\n",
      "1     98\n",
      "2     99\n",
      "3    100\n",
      "4    101\n",
      "5    102\n",
      "6    103\n",
      "7    104\n",
      "8    105\n",
      "dtype: int64\n",
      "Type of series: <class 'list'>\n",
      "series [97, 98, 99, 100, 101, 102, 103, 104, 105]\n"
     ]
    }
   ],
   "source": [
    "import pandas as pd\n",
    "\n",
    "def main():\n",
    "    \"\"\"\n",
    "    Main function to demonstrate converting a pandas Series to a list and printing type and values.\n",
    "    \"\"\"\n",
    "    # Create a pandas Series with values ranging from ASCII code of 'a' to 'i'\n",
    "    # ord('a') gives 97, and ord('j') gives 106; thus, the range will be 97 to 105\n",
    "    series = pd.Series(range(ord('a'), ord('j')))\n",
    "    \n",
    "    # Print the type of the Series object\n",
    "    print(\"Type of series:\", type(series))\n",
    "    \n",
    "    # Print the Series object\n",
    "    print(\"Series:\\n\", series)\n",
    "    \n",
    "    # Convert the Series to a list\n",
    "    series = list(series)\n",
    "    \n",
    "    # Print the type of the list object\n",
    "    print(\"Type of series:\", type(series))\n",
    "    \n",
    "    # Print the list object\n",
    "    print(\"series\", series)\n",
    "\n",
    "if __name__ == '__main__':\n",
    "    # Execute main function if this script is run directly\n",
    "    main()\n"
   ]
  },
  {
   "cell_type": "markdown",
   "metadata": {},
   "source": [
    "## 3. Write a Python program to add, subtract, multiple and divide two Pandas Series.\n",
    "Sample Series: [2, 4, 6, 8, 10], [1, 3, 5, 7, 9]\n"
   ]
  },
  {
   "cell_type": "code",
   "execution_count": 22,
   "metadata": {},
   "outputs": [
    {
     "name": "stdout",
     "output_type": "stream",
     "text": [
      "Addition of series:\n",
      " 0     1\n",
      "1     3\n",
      "2     5\n",
      "3     7\n",
      "4     9\n",
      "5    11\n",
      "6    13\n",
      "7    15\n",
      "8    17\n",
      "9    19\n",
      "dtype: int64\n",
      "Subtraction of series:\n",
      " 0    1\n",
      "1    1\n",
      "2    1\n",
      "3    1\n",
      "4    1\n",
      "5    1\n",
      "6    1\n",
      "7    1\n",
      "8    1\n",
      "9    1\n",
      "dtype: int64\n",
      "Multiplication of series:\n",
      " 0     0\n",
      "1     2\n",
      "2     6\n",
      "3    12\n",
      "4    20\n",
      "5    30\n",
      "6    42\n",
      "7    56\n",
      "8    72\n",
      "9    90\n",
      "dtype: int64\n",
      "Division of series:\n",
      " 0         inf\n",
      "1    2.000000\n",
      "2    1.500000\n",
      "3    1.333333\n",
      "4    1.250000\n",
      "5    1.200000\n",
      "6    1.166667\n",
      "7    1.142857\n",
      "8    1.125000\n",
      "9    1.111111\n",
      "dtype: float64\n"
     ]
    }
   ],
   "source": [
    "import pandas as pd\n",
    "\n",
    "def add_sub_mul_div_series(series1, series2):\n",
    "    \"\"\"\n",
    "    Perform element-wise addition, subtraction, multiplication, and division on two pandas Series.\n",
    "    \n",
    "    Parameters:\n",
    "        series1 (pd.Series): First input Series.\n",
    "        series2 (pd.Series): Second input Series.\n",
    "        \n",
    "    Returns:\n",
    "        list: A list containing the results of addition, subtraction, multiplication, and division.\n",
    "    \"\"\"\n",
    "    # Perform element-wise operations between the two Series\n",
    "    add = series1 + series2\n",
    "    sub = series1 - series2\n",
    "    mul = series1 * series2\n",
    "    div = series1 / series2\n",
    "    \n",
    "    # Return a list of the results\n",
    "    return [add, sub, mul, div]\n",
    "\n",
    "def main():\n",
    "    \"\"\"\n",
    "    Main function to demonstrate the element-wise operations on pandas Series.\n",
    "    \"\"\"\n",
    "    # Create two pandas Series with values from 1 to 10 and from 0 to 9, respectively\n",
    "    series1 = pd.Series(range(1, 11))\n",
    "    series2 = pd.Series(range(10))\n",
    "    \n",
    "    # Call the function and print results for each operation\n",
    "    results = add_sub_mul_div_series(series1, series2)\n",
    "    \n",
    "    print(\"Addition of series:\\n\", results[0])\n",
    "    print(\"Subtraction of series:\\n\", results[1])\n",
    "    print(\"Multiplication of series:\\n\", results[2])\n",
    "    print(\"Division of series:\\n\", results[3])\n",
    "\n",
    "if __name__ == '__main__':\n",
    "    # Execute main function if this script is run directly\n",
    "    main()\n"
   ]
  },
  {
   "cell_type": "markdown",
   "metadata": {},
   "source": [
    "## 4. Write a Python program to get the powers of an array values element-wise.\n",
    "Note: First array elements raised to powers from second array<br>\n",
    "Expected Output:<br>\n",
    "Original array<br>\n",
    "[0 1 2 3 4 5 6]<br>\n",
    "First array elements raised to powers from second array, element-wise:<br>\n",
    "[ 0 1 8 27 64 125 216]<br>\n"
   ]
  },
  {
   "cell_type": "code",
   "execution_count": 28,
   "metadata": {},
   "outputs": [
    {
     "name": "stdout",
     "output_type": "stream",
     "text": [
      "Original Array: [ 1  2  3  4  5  6  7  8  9 10]\n",
      "Power of 3: [   1    8   27   64  125  216  343  512  729 1000]\n"
     ]
    }
   ],
   "source": [
    "import numpy as np\n",
    "import pandas as pd\n",
    "\n",
    "def main():\n",
    "    \"\"\"\n",
    "    Main function to demonstrate creating a pandas Series with cubic values and converting it back to a numpy array.\n",
    "    \"\"\"\n",
    "    # Create a numpy array with values from 1 to 10\n",
    "    array = np.arange(1, 11)\n",
    "    \n",
    "    # Print the original array\n",
    "    print(\"Original Array:\", array)\n",
    "    \n",
    "    # Create a pandas Series where each element is the cube of the corresponding element in the original array\n",
    "    ser = pd.Series(data=array**3)\n",
    "    \n",
    "    # Convert the Series back to a numpy array and print it\n",
    "    print(\"Power of 3:\", np.array(ser))\n",
    "\n",
    "if __name__ == '__main__':\n",
    "    # Execute main function if this script is run directly\n",
    "    main()\n"
   ]
  },
  {
   "cell_type": "markdown",
   "metadata": {},
   "source": [
    "## 5. Write a Python program to create and display a DataFrame from a specified dictionarydata which has the index labels.\n",
    "Sample Python dictionary data and list labels:<br>\n",
    "exam_data = {'name': ['Anastasia', 'Dima', 'Katherine', 'James', 'Emily', 'Michael','Matthew', 'Laura', 'Kevin', 'Jonas'],<br>\n",
    "'score': [12.5, 9, 16.5, np.nan, 9, 20, 14.5, np.nan, 8, 19],<br>\n",
    "'attempts': [1, 3, 2, 3, 2, 3, 1, 1, 2, 1],<br>\n",
    "'qualify': ['yes', 'no', 'yes', 'no', 'no', 'yes', 'yes', 'no', 'no', 'yes']}<br>\n",
    "labels = ['a', 'b', 'c', 'd', 'e', 'f', 'g', 'h', 'i', 'j']<br>\n"
   ]
  },
  {
   "cell_type": "code",
   "execution_count": 31,
   "metadata": {},
   "outputs": [
    {
     "name": "stdout",
     "output_type": "stream",
     "text": [
      "        name  score  attempts qualify\n",
      "a  Anastasia   12.5         1     yes\n",
      "b       Dima    9.0         3      no\n",
      "c  Katherine   16.5         2     yes\n",
      "d      James    NaN         3      no\n",
      "e      Emily    9.0         2      no\n",
      "f    Michael   20.0         3     yes\n",
      "g    Matthew   14.5         1     yes\n",
      "h      Laura    NaN         1      no\n",
      "i      Kevin    8.0         2      no\n",
      "j      Jonas   19.0         1     yes\n"
     ]
    }
   ],
   "source": [
    "import pandas as pd\n",
    "import numpy as np\n",
    "\n",
    "def main():\n",
    "    \"\"\"\n",
    "    Main function to demonstrate creating a pandas DataFrame with custom row labels.\n",
    "    \"\"\"\n",
    "    # Define a dictionary containing exam data\n",
    "    exam_data = {\n",
    "        'name': ['Anastasia', 'Dima', 'Katherine', 'James', 'Emily', 'Michael', 'Matthew', 'Laura', 'Kevin', 'Jonas'],\n",
    "        'score': [12.5, 9, 16.5, np.nan, 9, 20, 14.5, np.nan, 8, 19],\n",
    "        'attempts': [1, 3, 2, 3, 2, 3, 1, 1, 2, 1],\n",
    "        'qualify': ['yes', 'no', 'yes', 'no', 'no', 'yes', 'yes', 'no', 'no', 'yes']\n",
    "    }\n",
    "    \n",
    "    # Define custom row labels\n",
    "    labels = ['a', 'b', 'c', 'd', 'e', 'f', 'g', 'h', 'i', 'j']\n",
    "\n",
    "    # Create a pandas DataFrame from the exam_data dictionary with custom row labels\n",
    "    data = pd.DataFrame(exam_data, index=labels)\n",
    "    \n",
    "    # Print the DataFrame\n",
    "    print(data)\n",
    "\n",
    "if __name__ == '__main__':\n",
    "    # Execute main function if this script is run directly\n",
    "    main()\n"
   ]
  },
  {
   "cell_type": "markdown",
   "metadata": {},
   "source": [
    "## 6. Write a Python program to display a summary of the basic information about a specified Data Frame and its data.\n",
    "Sample Python dictionary data and list labels:<br>\n",
    "exam_data = {'name': ['Anastasia', 'Dima', 'Katherine', 'James', 'Emily', 'Michael', 'Matthew','Laura', 'Kevin', 'Jonas'],<br>\n",
    "'score': [12.5, 9, 16.5, np.nan, 9, 20, 14.5, np.nan, 8, 19],<br>\n",
    "'attempts': [1, 3, 2, 3, 2, 3, 1, 1, 2, 1],<br>\n",
    "'qualify': ['yes', 'no', 'yes', 'no', 'no', 'yes', 'yes', 'no', 'no', 'yes']}<br>\n",
    "labels = ['a', 'b', 'c', 'd', 'e', 'f', 'g', 'h', 'i', 'j']<br>\n"
   ]
  },
  {
   "cell_type": "code",
   "execution_count": 36,
   "metadata": {},
   "outputs": [
    {
     "name": "stdout",
     "output_type": "stream",
     "text": [
      "DataFrame:\n",
      "         name  score  attempts qualify\n",
      "a  Anastasia   12.5         1     yes\n",
      "b       Dima    9.0         3      no\n",
      "c  Katherine   16.5         2     yes\n",
      "d      James    NaN         3      no\n",
      "e      Emily    9.0         2      no\n",
      "f    Michael   20.0         3     yes\n",
      "g    Matthew   14.5         1     yes\n",
      "h      Laura    NaN         1      no\n",
      "i      Kevin    8.0         2      no\n",
      "j      Jonas   19.0         1     yes\n",
      "\n",
      "Summary statistics:\n",
      "            score   attempts\n",
      "count   8.000000  10.000000\n",
      "mean   13.562500   1.900000\n",
      "std     4.693746   0.875595\n",
      "min     8.000000   1.000000\n",
      "25%     9.000000   1.000000\n",
      "50%    13.500000   2.000000\n",
      "75%    17.125000   2.750000\n",
      "max    20.000000   3.000000\n"
     ]
    }
   ],
   "source": [
    "import pandas as pd\n",
    "import numpy as np\n",
    "\n",
    "def main():\n",
    "    \"\"\"\n",
    "    Main function to create a pandas DataFrame from exam data and display basic statistics.\n",
    "    \"\"\"\n",
    "    # Define a dictionary containing exam data\n",
    "    exam_data = {\n",
    "        'name': ['Anastasia', 'Dima', 'Katherine', 'James', 'Emily', 'Michael', 'Matthew', 'Laura', 'Kevin', 'Jonas'],\n",
    "        'score': [12.5, 9, 16.5, np.nan, 9, 20, 14.5, np.nan, 8, 19],\n",
    "        'attempts': [1, 3, 2, 3, 2, 3, 1, 1, 2, 1],\n",
    "        'qualify': ['yes', 'no', 'yes', 'no', 'no', 'yes', 'yes', 'no', 'no', 'yes']\n",
    "    }\n",
    "    \n",
    "    # Define custom row labels\n",
    "    labels = ['a', 'b', 'c', 'd', 'e', 'f', 'g', 'h', 'i', 'j']\n",
    "    \n",
    "    # Create a pandas DataFrame from the exam_data dictionary with custom row labels\n",
    "    data = pd.DataFrame(exam_data, index=labels)\n",
    "    \n",
    "    # Print the DataFrame\n",
    "    print(\"DataFrame:\\n\", data)\n",
    "    \n",
    "    # Print a summary of basic statistics for the numeric columns in the DataFrame\n",
    "    print(\"\\nSummary statistics:\\n\", data.describe())\n",
    "\n",
    "if __name__ == '__main__':\n",
    "    # Execute main function if this script is run directly\n",
    "    main()\n"
   ]
  }
 ],
 "metadata": {
  "kernelspec": {
   "display_name": "Python 3",
   "language": "python",
   "name": "python3"
  },
  "language_info": {
   "codemirror_mode": {
    "name": "ipython",
    "version": 3
   },
   "file_extension": ".py",
   "mimetype": "text/x-python",
   "name": "python",
   "nbconvert_exporter": "python",
   "pygments_lexer": "ipython3",
   "version": "3.10.7"
  }
 },
 "nbformat": 4,
 "nbformat_minor": 2
}

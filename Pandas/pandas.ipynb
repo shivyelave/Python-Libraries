{
 "cells": [
  {
   "cell_type": "markdown",
   "metadata": {},
   "source": [
    "'''<br><br>\n",
    "@Author: Shivraj Yelave<be>\n",
    "@Date: 07-08-24<br>\n",
    "@Last modified by: Shivraj Yelave<br>\n",
    "@Last modified time:<br>\n",
    "@Title: Python Pandas Programs <br>\n",
    "\n",
    "<br><br>\n",
    "\n",
    "'''"
   ]
  },
  {
   "cell_type": "markdown",
   "metadata": {},
   "source": [
    "## 1. Write a Python program to create and display a one-dimensional array-like object containing an array of data using Pandas module.\n"
   ]
  },
  {
   "cell_type": "code",
   "execution_count": 5,
   "metadata": {},
   "outputs": [
    {
     "name": "stdout",
     "output_type": "stream",
     "text": [
      "    0\n",
      "0   1\n",
      "1   2\n",
      "2   3\n",
      "3   4\n",
      "4   5\n",
      "5   6\n",
      "6   7\n",
      "7   8\n",
      "8   9\n",
      "9  10\n"
     ]
    }
   ],
   "source": [
    "import pandas as pd\n",
    "import numpy as np\n",
    "\n",
    "def main():\n",
    "    \"\"\"\n",
    "    Main function to demonstrate creating and printing a pandas DataFrame from a numpy array.\n",
    "    \"\"\"\n",
    "    # Create a 1D numpy array with values from 1 to 10\n",
    "    array = np.arange(1, 11)\n",
    "    \n",
    "    # Convert the numpy array into a pandas DataFrame\n",
    "    # The resulting DataFrame will have one column with default column name 0\n",
    "    data = pd.DataFrame(array)\n",
    "    \n",
    "    # Print the DataFrame\n",
    "    print(data)\n",
    "\n",
    "if __name__ == '__main__':\n",
    "    # Execute main function if this script is run directly\n",
    "    main()\n"
   ]
  },
  {
   "cell_type": "markdown",
   "metadata": {},
   "source": [
    "## 2. Write a Python program to convert a Panda module Series to Python list and it's type."
   ]
  },
  {
   "cell_type": "code",
   "execution_count": 14,
   "metadata": {},
   "outputs": [
    {
     "name": "stdout",
     "output_type": "stream",
     "text": [
      "Type of series: <class 'pandas.core.series.Series'>\n",
      "Series:\n",
      " 0     97\n",
      "1     98\n",
      "2     99\n",
      "3    100\n",
      "4    101\n",
      "5    102\n",
      "6    103\n",
      "7    104\n",
      "8    105\n",
      "dtype: int64\n",
      "Type of series: <class 'list'>\n",
      "series [97, 98, 99, 100, 101, 102, 103, 104, 105]\n"
     ]
    }
   ],
   "source": [
    "import pandas as pd\n",
    "\n",
    "def main():\n",
    "    \"\"\"\n",
    "    Main function to demonstrate converting a pandas Series to a list and printing type and values.\n",
    "    \"\"\"\n",
    "    # Create a pandas Series with values ranging from ASCII code of 'a' to 'i'\n",
    "    # ord('a') gives 97, and ord('j') gives 106; thus, the range will be 97 to 105\n",
    "    series = pd.Series(range(ord('a'), ord('j')))\n",
    "    \n",
    "    # Print the type of the Series object\n",
    "    print(\"Type of series:\", type(series))\n",
    "    \n",
    "    # Print the Series object\n",
    "    print(\"Series:\\n\", series)\n",
    "    \n",
    "    # Convert the Series to a list\n",
    "    series = list(series)\n",
    "    \n",
    "    # Print the type of the list object\n",
    "    print(\"Type of series:\", type(series))\n",
    "    \n",
    "    # Print the list object\n",
    "    print(\"series\", series)\n",
    "\n",
    "if __name__ == '__main__':\n",
    "    # Execute main function if this script is run directly\n",
    "    main()\n"
   ]
  }
 ],
 "metadata": {
  "kernelspec": {
   "display_name": "Python 3",
   "language": "python",
   "name": "python3"
  },
  "language_info": {
   "codemirror_mode": {
    "name": "ipython",
    "version": 3
   },
   "file_extension": ".py",
   "mimetype": "text/x-python",
   "name": "python",
   "nbconvert_exporter": "python",
   "pygments_lexer": "ipython3",
   "version": "3.10.7"
  }
 },
 "nbformat": 4,
 "nbformat_minor": 2
}
